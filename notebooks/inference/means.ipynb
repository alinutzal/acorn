{
 "cells": [
  {
   "cell_type": "code",
   "execution_count": 1,
   "metadata": {},
   "outputs": [],
   "source": [
    "import pandas as pd\n",
    "import numpy as np"
   ]
  },
  {
   "cell_type": "code",
   "execution_count": 2,
   "metadata": {},
   "outputs": [
    {
     "name": "stdout",
     "output_type": "stream",
     "text": [
      "    Module Map  Preprocessing for GNN       GNN  Track Building\n",
      "1     5.892912               0.021820  0.126711        0.004557\n",
      "2     8.503903               0.016659  0.141917        0.005144\n",
      "3     7.994713               0.015566  0.225190        0.003439\n",
      "4     7.468513               0.014747  0.212252        0.003298\n",
      "5     6.954276               0.021713  0.129380        0.004613\n",
      "..         ...                    ...       ...             ...\n",
      "95   10.517159               0.016879  0.179350        0.005521\n",
      "96   12.710772               0.022449  0.180618        0.014744\n",
      "97   13.254394               0.029611  0.179971        0.006693\n",
      "98   11.237479               0.026355  0.156923        0.005457\n",
      "99   11.775901               0.021519  0.166327        0.005701\n",
      "\n",
      "[99 rows x 4 columns]\n",
      "                               0\n",
      "Module Map             10.802203\n",
      "Preprocessing for GNN   0.021033\n",
      "GNN                     0.167432\n",
      "Track Building          0.006155\n"
     ]
    },
    {
     "data": {
      "text/html": [
       "<div>\n",
       "<style scoped>\n",
       "    .dataframe tbody tr th:only-of-type {\n",
       "        vertical-align: middle;\n",
       "    }\n",
       "\n",
       "    .dataframe tbody tr th {\n",
       "        vertical-align: top;\n",
       "    }\n",
       "\n",
       "    .dataframe thead th {\n",
       "        text-align: right;\n",
       "    }\n",
       "</style>\n",
       "<table border=\"1\" class=\"dataframe\">\n",
       "  <thead>\n",
       "    <tr style=\"text-align: right;\">\n",
       "      <th></th>\n",
       "      <th>mean</th>\n",
       "      <th>std</th>\n",
       "    </tr>\n",
       "  </thead>\n",
       "  <tbody>\n",
       "    <tr>\n",
       "      <th>Module Map</th>\n",
       "      <td>10.802203</td>\n",
       "      <td>2.503946</td>\n",
       "    </tr>\n",
       "    <tr>\n",
       "      <th>Preprocessing for GNN</th>\n",
       "      <td>0.021033</td>\n",
       "      <td>0.005120</td>\n",
       "    </tr>\n",
       "    <tr>\n",
       "      <th>GNN</th>\n",
       "      <td>0.167432</td>\n",
       "      <td>0.024016</td>\n",
       "    </tr>\n",
       "    <tr>\n",
       "      <th>Track Building</th>\n",
       "      <td>0.006155</td>\n",
       "      <td>0.002882</td>\n",
       "    </tr>\n",
       "  </tbody>\n",
       "</table>\n",
       "</div>"
      ],
      "text/plain": [
       "                            mean       std\n",
       "Module Map             10.802203  2.503946\n",
       "Preprocessing for GNN   0.021033  0.005120\n",
       "GNN                     0.167432  0.024016\n",
       "Track Building          0.006155  0.002882"
      ]
     },
     "execution_count": 2,
     "metadata": {},
     "output_type": "execute_result"
    }
   ],
   "source": [
    "df1 = pd.read_csv(\"resuts1.csv\")\n",
    "df1 = df1.iloc[1:, :]\n",
    "df1 = df1[['col_10','col_12','col_14','col_16']]\n",
    "df1.columns = ['Module Map', 'Preprocessing for GNN', 'GNN', \"Track Building\"]\n",
    "print(df1)\n",
    "results = pd.DataFrame(df1.mean())\n",
    "print(results)\n",
    "results[\"std\"] = df1.std() \n",
    "results.columns=[\"mean\",\"std\"]\n",
    "results"
   ]
  },
  {
   "cell_type": "code",
   "execution_count": 5,
   "metadata": {},
   "outputs": [
    {
     "name": "stdout",
     "output_type": "stream",
     "text": [
      "                         0\n",
      "Unnamed: 0       50.000000\n",
      "merge             0.139124\n",
      "doublet edges     5.645042\n",
      "doublet edges 2   4.918263\n",
      "triplet edges     0.062352\n",
      "concat            0.002557\n",
      "get y             0.024745\n"
     ]
    },
    {
     "data": {
      "text/html": [
       "<div>\n",
       "<style scoped>\n",
       "    .dataframe tbody tr th:only-of-type {\n",
       "        vertical-align: middle;\n",
       "    }\n",
       "\n",
       "    .dataframe tbody tr th {\n",
       "        vertical-align: top;\n",
       "    }\n",
       "\n",
       "    .dataframe thead th {\n",
       "        text-align: right;\n",
       "    }\n",
       "</style>\n",
       "<table border=\"1\" class=\"dataframe\">\n",
       "  <thead>\n",
       "    <tr style=\"text-align: right;\">\n",
       "      <th></th>\n",
       "      <th>mean</th>\n",
       "      <th>std</th>\n",
       "    </tr>\n",
       "  </thead>\n",
       "  <tbody>\n",
       "    <tr>\n",
       "      <th>Unnamed: 0</th>\n",
       "      <td>50.000000</td>\n",
       "      <td>28.722813</td>\n",
       "    </tr>\n",
       "    <tr>\n",
       "      <th>merge</th>\n",
       "      <td>0.139124</td>\n",
       "      <td>0.038769</td>\n",
       "    </tr>\n",
       "    <tr>\n",
       "      <th>doublet edges</th>\n",
       "      <td>5.645042</td>\n",
       "      <td>1.209844</td>\n",
       "    </tr>\n",
       "    <tr>\n",
       "      <th>doublet edges 2</th>\n",
       "      <td>4.918263</td>\n",
       "      <td>1.365660</td>\n",
       "    </tr>\n",
       "    <tr>\n",
       "      <th>triplet edges</th>\n",
       "      <td>0.062352</td>\n",
       "      <td>0.056967</td>\n",
       "    </tr>\n",
       "    <tr>\n",
       "      <th>concat</th>\n",
       "      <td>0.002557</td>\n",
       "      <td>0.001643</td>\n",
       "    </tr>\n",
       "    <tr>\n",
       "      <th>get y</th>\n",
       "      <td>0.024745</td>\n",
       "      <td>0.006563</td>\n",
       "    </tr>\n",
       "  </tbody>\n",
       "</table>\n",
       "</div>"
      ],
      "text/plain": [
       "                      mean        std\n",
       "Unnamed: 0       50.000000  28.722813\n",
       "merge             0.139124   0.038769\n",
       "doublet edges     5.645042   1.209844\n",
       "doublet edges 2   4.918263   1.365660\n",
       "triplet edges     0.062352   0.056967\n",
       "concat            0.002557   0.001643\n",
       "get y             0.024745   0.006563"
      ]
     },
     "execution_count": 5,
     "metadata": {},
     "output_type": "execute_result"
    }
   ],
   "source": [
    "df2 = pd.read_csv(\"resuts2.csv\")\n",
    "df2 = df2.iloc[1:, :]\n",
    "results = pd.DataFrame(df2.mean())\n",
    "print(results)\n",
    "results[\"std\"] = df2.std() \n",
    "results.columns=[\"mean\",\"std\"]\n",
    "results"
   ]
  }
 ],
 "metadata": {
  "kernelspec": {
   "display_name": "gnn4itk_a",
   "language": "python",
   "name": "python3"
  },
  "language_info": {
   "codemirror_mode": {
    "name": "ipython",
    "version": 3
   },
   "file_extension": ".py",
   "mimetype": "text/x-python",
   "name": "python",
   "nbconvert_exporter": "python",
   "pygments_lexer": "ipython3",
   "version": "3.9.15"
  }
 },
 "nbformat": 4,
 "nbformat_minor": 2
}
